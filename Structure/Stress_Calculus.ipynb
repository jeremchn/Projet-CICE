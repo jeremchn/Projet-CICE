{
 "cells": [
  {
   "cell_type": "markdown",
   "id": "95b9b677",
   "metadata": {},
   "source": [
    "Calypso project - option CICE Centrale Nantes\n",
    "Program of stress calculations for the blades"
   ]
  },
  {
   "cell_type": "code",
   "execution_count": 9,
   "id": "89bd81f3",
   "metadata": {},
   "outputs": [],
   "source": [
    "import numpy as np\n",
    "import math"
   ]
  },
  {
   "cell_type": "markdown",
   "id": "86e76e85",
   "metadata": {},
   "source": [
    "Useful Files "
   ]
  },
  {
   "cell_type": "code",
   "execution_count": 11,
   "id": "94bb985d",
   "metadata": {},
   "outputs": [
    {
     "ename": "FileNotFoundError",
     "evalue": "[Errno 2] No such file or directory: 'Section_cord_unitary.npy'",
     "output_type": "error",
     "traceback": [
      "\u001b[1;31m---------------------------------------------------------------------------\u001b[0m",
      "\u001b[1;31mFileNotFoundError\u001b[0m                         Traceback (most recent call last)",
      "Cell \u001b[1;32mIn[11], line 1\u001b[0m\n\u001b[1;32m----> 1\u001b[0m Table \u001b[38;5;241m=\u001b[39m \u001b[43mnp\u001b[49m\u001b[38;5;241;43m.\u001b[39;49m\u001b[43mload\u001b[49m\u001b[43m(\u001b[49m\u001b[38;5;124;43m\"\u001b[39;49m\u001b[38;5;124;43mSection_cord_unitary.npy\u001b[39;49m\u001b[38;5;124;43m\"\u001b[39;49m\u001b[43m)\u001b[49m\n\u001b[0;32m      2\u001b[0m data_blade \u001b[38;5;241m=\u001b[39m np\u001b[38;5;241m.\u001b[39mloadtxt(\u001b[38;5;124m'\u001b[39m\u001b[38;5;124mChordAngle.dat\u001b[39m\u001b[38;5;124m'\u001b[39m)  \n\u001b[0;32m      4\u001b[0m \u001b[38;5;66;03m#tests\u001b[39;00m\n",
      "File \u001b[1;32mD:\\Appli\\Anaconda\\lib\\site-packages\\numpy\\lib\\npyio.py:405\u001b[0m, in \u001b[0;36mload\u001b[1;34m(file, mmap_mode, allow_pickle, fix_imports, encoding, max_header_size)\u001b[0m\n\u001b[0;32m    403\u001b[0m     own_fid \u001b[38;5;241m=\u001b[39m \u001b[38;5;28;01mFalse\u001b[39;00m\n\u001b[0;32m    404\u001b[0m \u001b[38;5;28;01melse\u001b[39;00m:\n\u001b[1;32m--> 405\u001b[0m     fid \u001b[38;5;241m=\u001b[39m stack\u001b[38;5;241m.\u001b[39menter_context(\u001b[38;5;28;43mopen\u001b[39;49m\u001b[43m(\u001b[49m\u001b[43mos_fspath\u001b[49m\u001b[43m(\u001b[49m\u001b[43mfile\u001b[49m\u001b[43m)\u001b[49m\u001b[43m,\u001b[49m\u001b[43m \u001b[49m\u001b[38;5;124;43m\"\u001b[39;49m\u001b[38;5;124;43mrb\u001b[39;49m\u001b[38;5;124;43m\"\u001b[39;49m\u001b[43m)\u001b[49m)\n\u001b[0;32m    406\u001b[0m     own_fid \u001b[38;5;241m=\u001b[39m \u001b[38;5;28;01mTrue\u001b[39;00m\n\u001b[0;32m    408\u001b[0m \u001b[38;5;66;03m# Code to distinguish from NumPy binary files and pickles.\u001b[39;00m\n",
      "\u001b[1;31mFileNotFoundError\u001b[0m: [Errno 2] No such file or directory: 'Section_cord_unitary.npy'"
     ]
    }
   ],
   "source": [
    "Table = np.load(\"Section_cord_unitary.npy\")\n",
    "data_blade = np.loadtxt('ChordAngle.dat')  \n",
    "\n",
    "#tests\n",
    "Number_points = 100\n",
    "data_blade = np.empty(Number_points)\n",
    "distrib = np.linspace(0,50,Number_points)\n",
    "distrib_x = np.linspace(0,0.8,Number_points)\n",
    "Cord = 0.12*np.ones(Number_points)\n",
    "data_blade = np.stack((distrib_x,Cord,distrib))\n",
    "data_blade=data_blade.T\n"
   ]
  },
  {
   "cell_type": "markdown",
   "id": "fb4a3a78",
   "metadata": {},
   "source": [
    "Useful Values"
   ]
  },
  {
   "cell_type": "code",
   "execution_count": 12,
   "id": "fe2c89ba",
   "metadata": {},
   "outputs": [
    {
     "ename": "NameError",
     "evalue": "name 'Area_section_unitary' is not defined",
     "output_type": "error",
     "traceback": [
      "\u001b[1;31m---------------------------------------------------------------------------\u001b[0m",
      "\u001b[1;31mNameError\u001b[0m                                 Traceback (most recent call last)",
      "Cell \u001b[1;32mIn[12], line 1\u001b[0m\n\u001b[1;32m----> 1\u001b[0m Area_unitary \u001b[38;5;241m=\u001b[39m \u001b[43mArea_section_unitary\u001b[49m(Table)\n\u001b[0;32m      2\u001b[0m Clalpha \u001b[38;5;241m=\u001b[39m \u001b[38;5;241m2\u001b[39m\u001b[38;5;241m*\u001b[39mnp\u001b[38;5;241m.\u001b[39mpi\n\u001b[0;32m      3\u001b[0m pitch \u001b[38;5;241m=\u001b[39m \u001b[38;5;241m0\u001b[39m\n",
      "\u001b[1;31mNameError\u001b[0m: name 'Area_section_unitary' is not defined"
     ]
    }
   ],
   "source": [
    "Area_unitary = Area_unitary_section(Table)\n",
    "Clalpha = 2*np.pi\n",
    "pitch = 0\n",
    "excentration = 0.05\n",
    "rotation_speed = 83.7\n",
    "Uvent = 15\n",
    "rho_material = 1250"
   ]
  },
  {
   "cell_type": "markdown",
   "id": "464a3c26",
   "metadata": {},
   "source": [
    "Usefull Functions for stress calculations"
   ]
  },
  {
   "cell_type": "code",
   "execution_count": 14,
   "id": "0a4b68c0",
   "metadata": {
    "scrolled": true
   },
   "outputs": [
    {
     "ename": "NameError",
     "evalue": "name 'data_blade' is not defined",
     "output_type": "error",
     "traceback": [
      "\u001b[1;31m---------------------------------------------------------------------------\u001b[0m",
      "\u001b[1;31mNameError\u001b[0m                                 Traceback (most recent call last)",
      "Cell \u001b[1;32mIn[14], line 46\u001b[0m\n\u001b[0;32m     36\u001b[0m     \u001b[38;5;28;01mreturn\u001b[39;00m m\n\u001b[0;32m     38\u001b[0m \u001b[38;5;66;03m#Useful files\u001b[39;00m\n\u001b[0;32m     39\u001b[0m \n\u001b[0;32m     40\u001b[0m \n\u001b[1;32m   (...)\u001b[0m\n\u001b[0;32m     44\u001b[0m \n\u001b[0;32m     45\u001b[0m \u001b[38;5;66;03m#distributions\u001b[39;00m\n\u001b[1;32m---> 46\u001b[0m L \u001b[38;5;241m=\u001b[39m distrib_l(\u001b[43mdata_blade\u001b[49m,Uvent,pitch,Clalpha)\n\u001b[0;32m     47\u001b[0m F \u001b[38;5;241m=\u001b[39m distrib_f(data_blade,rotation_speed,Area_unitary,excentration,rho_material)\n\u001b[0;32m     49\u001b[0m \u001b[38;5;66;03m#for now\u001b[39;00m\n",
      "\u001b[1;31mNameError\u001b[0m: name 'data_blade' is not defined"
     ]
    }
   ],
   "source": [
    "#Useful functions for the code\n",
    "\n",
    "def Area_unitary_section (table_interpolation) :\n",
    "    A = 0\n",
    "    N = len(table_interpolation[0]) - 1\n",
    "    for i in range (N):\n",
    "        A +=  1/N * ((table_interpolation[2][i])-(table_interpolation[1][i]))\n",
    "    return A\n",
    "\n",
    "#To calculate the distribution of L\n",
    "\n",
    "def l_linear (Uvent,pitch,Clalpha,cord,angle):\n",
    "    return 1/2 * 1.225* (Uvent)**2 * Clalpha * (pitch + angle) * corde*np.pi/180\n",
    "    \n",
    "def distrib_l (tab,Uvent,pitch,Clalpha) :\n",
    "    l = []\n",
    "    for i in range (len(tab)) :\n",
    "        l.append([tab[i][0], l_linear(Uvent,pitch,Clalpha,tab[i][1],tab[i][2])])\n",
    "    return l\n",
    "    \n",
    "#To calculate the distribution of f (radial centrifugal force)\n",
    "\n",
    "def f_linear (rho_material,Area_section,rotation_speed,position_blade,excentration_blade) :\n",
    "    return rho_material*(position_blade+excentration_blade)*Area_section*(rotation_speed)**2\n",
    "\n",
    "def distrib_f (tab,rotation_speed,Area_unitary,excentration_blade,rho_material) :\n",
    "    f = []\n",
    "    for i in range (len(tab)):\n",
    "        f.append([tab[i][0],f_linear(rho_material,Area_unitary*tab[i][1]**2,rotation_speed,tab[i][0],excentration_blade)])\n",
    "    return f\n",
    "\n",
    "def distrib_m (distrib_l,coordinates_ce,coordinates_ca) :\n",
    "    m = []\n",
    "    for i in range(len(distrib_l)) :\n",
    "        m.append(distrib_l[i]*(coordinates_ca**2+coordinates_ce**2))\n",
    "    return m\n",
    "\n",
    "#Useful files\n",
    "\n",
    "\n",
    "\n",
    "#Useful values\n",
    "\n",
    "\n",
    "#distributions\n",
    "L = distrib_l(data_blade,Uvent,pitch,Clalpha)\n",
    "F = distrib_f(data_blade,rotation_speed,Area_unitary,excentration,rho_material)\n",
    "\n",
    "#for now\n",
    "m = []\n",
    "for i in range (len(L)) :\n",
    "    m.append([L[i][0],L[i][0]*L[i][1]])\n",
    "\n",
    "\n",
    "#Integrations\n",
    "\n",
    "def method_trapeze(tab) :\n",
    "    integral = 0.0\n",
    "    for i in range(len(tab) - 1):\n",
    "        x_current, y_current = tab[i]\n",
    "        x_next, y_next = tab[i + 1]\n",
    "        h = x_next - x_current\n",
    "        integral += (y_current + y_next) * h / 2  # Trapeze formula\n",
    "    return integral\n",
    "\n",
    "#Torsion moment\n",
    "\"F_aero is taken from the Fluid table obtained by the fluid department of the project\"\n",
    "def moment_torsion (ce,ca,Faero) : #List of coord. Elastic Center, Aero Center, and liste of aero. stress\n",
    "    Mtorsion = []\n",
    "    for i in range (len(ce)) :\n",
    "        d = np.sqrt ((ce[i][0]-ca[i][0])**2+(ce[i][1]-ca[i][1])**2)\n",
    "        M_torsion.append(d*Faero[i])\n",
    "    return Mtorsion"
   ]
  },
  {
   "cell_type": "markdown",
   "id": "464cdd84",
   "metadata": {},
   "source": [
    "Useful functions for geometry calculations"
   ]
  },
  {
   "cell_type": "code",
   "execution_count": 15,
   "id": "6b4529e3",
   "metadata": {},
   "outputs": [],
   "source": [
    "################################\n",
    "#CALCULATE ON AN UNITARY SECTION\n",
    "################################\n",
    "\n",
    "\"\"\"Section_interpolated is a three-column table\n",
    " 1 -> coordinate x\n",
    " 2 -> coordinate y_lower\n",
    " 3 -> coordinate y_upper\"\"\"\n",
    "\n",
    "def Calculus_geometrical (Section_interpolated) :\n",
    "    \"Initialisation of Iyy, Izz et Iyz\"\n",
    "    Iyy = 0\n",
    "    Izz = 0 \n",
    "    Iyz1 = 0\n",
    "    \n",
    "    N = len(Section_interpolated[0]) - 1\n",
    "    \n",
    "    \"Calculating by summing the integers along all parts of the discretisation\"\n",
    "    for i in range (N) :\n",
    "        Iyy += 1/(3*N) * ((Section_interpolated[2][i])**3-(Section_interpolated[1][i])**3)\n",
    "        Izz += 1/N * ((Section_interpolated[2][i])-(Section_interpolated[1][i]))*Section_interpolated[0][i]**2\n",
    "        Iyz1 += 1/(2*N) * ((Section_interpolated[2][i])**2-(Section_interpolated[1][i])**2)* Section_interpolee[0][i]\n",
    "    Sy = 0\n",
    "    Sz = 0\n",
    "    A = 0\n",
    "    \n",
    "    N = len(Section_interpolated[0]) - 1\n",
    "    \n",
    "    \"Calculating by summing the integers along all parts of the discretisation\"\n",
    "    for i in range (N) :\n",
    "        Sy += 1/(2*N) * ((Section_interpolated[2][i])**2-(Section_interpolated[1][i])**2)\n",
    "        Sz += 1/N * ((Section_interpolated[2][i])-(Section_interpolated[1][i]))*Section_interpolated[0][i]\n",
    "        A +=  1/N * ((Section_interpolated[2][i])-(Section_interpolated[1][i]))\n",
    "        Zc = Sy/A\n",
    "        Yc = Sz/A\n",
    "    Iy = Iyy - (Zc**2)*A\n",
    "    Iz = Izz - A*Yc**2\n",
    "    Iyz = Iyz1 - Yc*Zc*A\n",
    "    I1 = 1/2*(Iz+Iy) - math.sqrt(((Iy-Iz)/2)**2 + Iyz**2)\n",
    "    I2 = 1/2*(Iz+Iy) + math.sqrt(((Iy-Iz)/2)**2 + Iyz**2)\n",
    "    Theta = math.atan2(2*Iyz, Iz-Iy)\n",
    "    print(Theta*180/math.pi)\n",
    "    \n",
    "    \"returning all useful quantities\"\n",
    "    return Yc, Zc, A, Sy, Sz,Iyy,Izz,Iyz1,Iy,Iz,Iyz,I1,I2,Theta\n",
    "\n",
    "################################\n",
    "#CALCUL SUR TOUTES LES SECTIONS\n",
    "################################\n",
    "\n",
    "\"\"\"caracteritique_pale est un tabeau trois colonnes avec \n",
    " 1 -> coordinates\n",
    " 2 -> cord\n",
    " 3 -> twist angle \"\"\"\n",
    "def method1 (data_blade,section_cord_unitary):\n",
    "    section_interpolated = interpolation_blade(section_cord_unitary)\n",
    "    [Yc, Zc, A, Sy, Sz,Iyy,Izz,Iyz1,Iy,Iz,Iyz,I1,I2,Theta] = Calculus_geometrical (section_interpolated)\n",
    "    y= data_blade[:, 0]\n",
    "    c = data_blade[:, 1]\n",
    "    alpha = data_blade[:, 2]    \n",
    "    yc = np.empty(len(data_blade))\n",
    "    zc = np.empty(len(data_blade))\n",
    "    A = np.empty(len(data_blade))\n",
    "    I1 = np.empty(len(data_blade))\n",
    "    I2 = np.empty(len(data_blade))\n",
    "    \"Filling the tables\"\n",
    "    for i in range (len(y)):\n",
    "        Iyyi = Iyy * c[i]**4\n",
    "        Izzi = Izz * c[i]**4\n",
    "        Iyzi = Iyz * c[i]**4\n",
    "        Syi = Sy * c[i]**3\n",
    "        Szi = Sz * c[i]**3\n",
    "        Ai = A * c[i]*2\n",
    "        yci = Szi/Ai\n",
    "        zci = Syi/Ai\n",
    "        yc.append(Szi/Ai)\n",
    "        zc.append(Syi/Ai)\n",
    "        A.append(Ai)\n",
    "        Iyi = Iyyi - (zci**2)*A\n",
    "        Izi = Izzi - A*yci**2\n",
    "        Iyzi = Iyzi - Yc*Zc*A\n",
    "        I1i = 1/2*(Izi+Iyi) - math.sqrt(((Iyi-Izi)/2)**2 + Iyzi**2)\n",
    "        I2i = 1/2*(Izi+Iyi) + math.sqrt(((Iyi-Izi)/2)**2 + Iyzi**2)\n",
    "        I1.append(I1i)\n",
    "        I2.append(I2i)\n",
    "    \"Compiling tables\"\n",
    "    Table = np.stack((y,c,alpha,yc,zc,A,I1,I2))\n",
    "    return Table\n",
    "\n",
    "\"\"\"caracteritics_blade is a three-column table with \n",
    " 1 -> coordinates\n",
    " 2 -> cord\n",
    " 3 -> twist angle \n",
    " 4 -> Section points that will be interpolated\"\"\"\n",
    "def method2 (data_blade):\n",
    "    y= data_blade[:, 0]\n",
    "    c = data_blade[:, 1]\n",
    "    alpha = data_pale[:, 2]    \n",
    "    yc = np.empty(len(data_blade))\n",
    "    zc = np.empty(len(data_blade))\n",
    "    A = np.empty(len(data_blade))\n",
    "    I1 = np.empty(len(data_blade))\n",
    "    I2 = np.empty(len(data_blade))\n",
    "    \"Filling the tables\"\n",
    "    for i in range (len(y)):\n",
    "        [Yc, Zc, A, Sy, Sz,Iyy,Izz,Iyz1,Iy,Iz,Iyz,I1,I2,Theta] = Calculus_geometrical (interpolation_blade(data_blade[i][3]))\n",
    "        Iyyi = Iyy * c[i]**4\n",
    "        Izzi = Izz * c[i]**4\n",
    "        Iyzi = Iyz * c[i]**4\n",
    "        Syi = Sy * c[i]**3\n",
    "        Szi = Sz * c[i]**3\n",
    "        Ai = A * c[i]*2\n",
    "        yci = Szi/Ai\n",
    "        zci = Syi/Ai\n",
    "        yc.append(yci)\n",
    "        zc.append(zci)\n",
    "        A.append(Ai)\n",
    "        Iyi = Iyyi - (Zc**2)*A\n",
    "        Izi = Izzi - A*Yc**2\n",
    "        Iyzi = Iyzi - Yc*Zc*A\n",
    "        I1i = 1/2*(Izi+Iyi) - math.sqrt(((Iyi-Izi)/2)**2 + Iyzi**2)\n",
    "        I2i = 1/2*(Izi+Iyi) + math.sqrt(((Iyi-Izi)/2)**2 + Iyzi**2)\n",
    "        I1.append(I1i)\n",
    "        I2.append(I2i)\n",
    "    \"Compiling tables\"\n",
    "    Table = np.stack((y,c,alpha,yc,zc,A,I1,I2))\n",
    "    return Table\n"
   ]
  },
  {
   "cell_type": "markdown",
   "id": "81649187",
   "metadata": {},
   "source": [
    "Geometry calculation"
   ]
  },
  {
   "cell_type": "code",
   "execution_count": null,
   "id": "00ae5a2f",
   "metadata": {},
   "outputs": [],
   "source": [
    "method = bool(input(\"Notice : \\n method 1 : with constant section (True) \\n method  2 : with variable section form (False) \\n Careful to follow the methods notice by using one or the other \\n chosen method : \"))\n",
    "if method == True :\n",
    "    Table = method1(data_blade,section_cord_unitary)\n",
    "else : \n",
    "    Table = method2(data_blade)"
   ]
  },
  {
   "cell_type": "markdown",
   "id": "5bdf9da4",
   "metadata": {},
   "source": [
    "Stress Calculation"
   ]
  },
  {
   "cell_type": "code",
   "execution_count": null,
   "id": "c939a7fd",
   "metadata": {},
   "outputs": [],
   "source": [
    "tab = [[0,1],[1,2]]\n",
    "Trial = method_trapeze(tab)\n",
    "#Results\n",
    "T = method_trapeze(L)\n",
    "print(T)\n",
    "N = method_trapeze(F)\n",
    "M = method_trapeze(m)\n",
    "T = method_trapeze()\n",
    "#D = method_trapeze(method_trapeze(m/(E*I))) \"I liste de I(x) et m liste de M(x)\"\n",
    "\n",
    "\n",
    "print(\"Shear force: \",T,\"Normal force\", N,\"Moment\" , M, \"Deflexion\", D)\n",
    "\n",
    "#Root stress\n",
    "\n",
    "D_root=30 #mm\n",
    "Table1=method1(data_blade,section_cord_unitary)\n",
    "I_root1=Table1[6][0]\n",
    "I_root2=Table1[7][0]\n",
    "M_root=M\n",
    "\n",
    "#Stress formula at the root\n",
    "sigma_root = M_root*D_root/2*I_root\n"
   ]
  },
  {
   "cell_type": "code",
   "execution_count": null,
   "id": "6809df27",
   "metadata": {},
   "outputs": [],
   "source": []
  }
 ],
 "metadata": {
  "kernelspec": {
   "display_name": "Python 3 (ipykernel)",
   "language": "python",
   "name": "python3"
  },
  "language_info": {
   "codemirror_mode": {
    "name": "ipython",
    "version": 3
   },
   "file_extension": ".py",
   "mimetype": "text/x-python",
   "name": "python",
   "nbconvert_exporter": "python",
   "pygments_lexer": "ipython3",
   "version": "3.10.11"
  }
 },
 "nbformat": 4,
 "nbformat_minor": 5
}
